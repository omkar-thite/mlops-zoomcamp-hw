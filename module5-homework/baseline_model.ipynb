{
 "cells": [
  {
   "cell_type": "markdown",
   "id": "41b2e206",
   "metadata": {},
   "source": [
    "# Baseline model for NYC taxi prediction"
   ]
  },
  {
   "cell_type": "code",
   "execution_count": 7,
   "metadata": {},
   "outputs": [],
   "source": [
    "import os\n",
    "import requests\n",
    "import datetime\n",
    "\n",
    "import pandas as pd\n",
    "import matplotlib.pyplot as plt\n",
    "import tqdm\n",
    "import joblib\n",
    "\n",
    "from evidently import ColumnMapping\n",
    "from evidently.report import Report\n",
    "from evidently.metrics import DatasetDriftMetric, ColumnQuantileMetric\n",
    "\n",
    "from sklearn.linear_model import LinearRegression\n",
    "from sklearn.metrics import root_mean_squared_error, mean_absolute_percentage_error"
   ]
  },
  {
   "cell_type": "code",
   "execution_count": 4,
   "id": "cacc05d9",
   "metadata": {},
   "outputs": [
    {
     "name": "stdout",
     "output_type": "stream",
     "text": [
      "Downloading files...\n",
      "https://d37ci6vzurychx.cloudfront.net/trip-data/green_tripdata_2024-03.parquet\n"
     ]
    },
    {
     "name": "stderr",
     "output_type": "stream",
     "text": [
      "data/green-2024-03.parquet: 100%|██████████| 1372372/1372372 [00:11<00:00, 119882.45it/s, save to data/green-2024-03.parquet]\n"
     ]
    }
   ],
   "source": [
    "# Download the March 2024 Green Taxi data\n",
    "\n",
    "year = 2024\n",
    "month = 3\n",
    "taxi_type = \"green\"\n",
    "\n",
    "print('Downloading files...')\n",
    "\n",
    "url = f\"https://d37ci6vzurychx.cloudfront.net/trip-data/{taxi_type}_tripdata_{year:04d}-{month:02d}.parquet\"\n",
    "print(url)\n",
    "response = requests.get(url, stream=True)\n",
    "\n",
    "os.makedirs(\"data\", exist_ok=True)\n",
    "\n",
    "save_path = f\"data/{taxi_type}-{year:04d}-{month:02d}.parquet\"\n",
    "\n",
    "with open(save_path, \"wb\") as f_out:\n",
    "    for data in tqdm.tqdm(response.iter_content(),\n",
    "                    desc=f\"{save_path}\",\n",
    "                    postfix=f\"save to {save_path}\",\n",
    "                    total = int(response.headers['Content-Length'])):\n",
    "        f_out.write(data)"
   ]
  },
  {
   "cell_type": "code",
   "execution_count": 10,
   "id": "27d986cd",
   "metadata": {},
   "outputs": [
    {
     "name": "stdout",
     "output_type": "stream",
     "text": [
      "Total rows in March 2024 dataset: 57457.\n"
     ]
    }
   ],
   "source": [
    "march_data = pd.read_parquet('data/green-2024-03.parquet')\n",
    "print(f\"Total rows in March 2024 dataset: {march_data.shape[0]}.\")"
   ]
  },
  {
   "cell_type": "code",
   "execution_count": 5,
   "id": "8eee222d",
   "metadata": {},
   "outputs": [],
   "source": [
    "column_mapping = ColumnMapping(target='fare_amount', prediction=None)"
   ]
  },
  {
   "cell_type": "code",
   "execution_count": 8,
   "id": "ef6c7f79",
   "metadata": {},
   "outputs": [],
   "source": [
    "daily_quantiles = []\n",
    "\n",
    "for day in pd.date_range(start=\"2024-03-01\", end=\"2024-03-31\", freq=\"D\"):\n",
    "    \n",
    "    next_day = day + pd.Timedelta(days=1)\n",
    "    day_data = march_data[(march_data['lpep_pickup_datetime'] >= day) & (march_data['lpep_pickup_datetime'] < next_day)]\n",
    "\n",
    "    if day_data.empty:\n",
    "        continue\n",
    "\n",
    "    report = Report(metrics=[ColumnQuantileMetric(column_name=\"fare_amount\", quantile=0.5)])\n",
    "\n",
    "    report.run(reference_data=None, current_data=day_data, column_mapping=column_mapping)\n",
    "\n",
    "    result = report.as_dict() \n",
    "\n",
    "    # Assumes the quantile value is stored under result['metrics'][0]['result']['current']['value']\n",
    "    quantile_value = result['metrics'][0]['result']['current']['value'] \n",
    "    daily_quantiles.append((day, quantile_value))"
   ]
  },
  {
   "cell_type": "code",
   "execution_count": 9,
   "id": "865d6caf",
   "metadata": {},
   "outputs": [
    {
     "name": "stdout",
     "output_type": "stream",
     "text": [
      "Maximum median fare_amount in March 2024 was on 2024-03-03 with a value of 14.2\n"
     ]
    }
   ],
   "source": [
    "max_day, max_value = max(daily_quantiles, key=lambda x: x[1]) \n",
    "print(f\"Maximum median fare_amount in March 2024 was on {max_day.date()} with a value of {max_value}\")"
   ]
  }
 ],
 "metadata": {
  "kernelspec": {
   "display_name": "module5-venv",
   "language": "python",
   "name": "python3"
  },
  "language_info": {
   "codemirror_mode": {
    "name": "ipython",
    "version": 3
   },
   "file_extension": ".py",
   "mimetype": "text/x-python",
   "name": "python",
   "nbconvert_exporter": "python",
   "pygments_lexer": "ipython3",
   "version": "3.12.3"
  }
 },
 "nbformat": 4,
 "nbformat_minor": 5
}
