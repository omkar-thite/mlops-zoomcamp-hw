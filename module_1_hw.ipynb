{
 "cells": [
  {
   "cell_type": "markdown",
   "id": "02864e41-97c6-46bc-ae6c-15213e5197f4",
   "metadata": {},
   "source": [
    "# Module 1 Homework"
   ]
  },
  {
   "cell_type": "code",
   "execution_count": null,
   "id": "48f1775d-9812-41c4-b2a9-3198e1faa3d5",
   "metadata": {},
   "outputs": [],
   "source": []
  },
  {
   "cell_type": "code",
   "execution_count": null,
   "id": "c84bfa65-f780-4ffa-9417-d168bf6c88b4",
   "metadata": {},
   "outputs": [],
   "source": [
    "import math\n",
    "import pickle\n",
    "\n",
    "import pandas as pd\n",
    "import seaborn as sns\n",
    "import matplotlib.pyplot as plt\n",
    "\n",
    "from sklearn.feature_extraction import DictVectorizer\n",
    "from sklearn.linear_model import LinearRegression, Lasso, Ridge\n",
    "from sklearn.metrics import mean_squared_error "
   ]
  },
  {
   "cell_type": "code",
   "execution_count": null,
   "id": "fcb679bc-2f6d-49c1-8427-f69b57fcc6e0",
   "metadata": {},
   "outputs": [],
   "source": [
    "df = pd.read_parquet('data/yellow_tripdata_2023-01.parquet')"
   ]
  },
  {
   "cell_type": "code",
   "execution_count": null,
   "id": "1ba6513c-4a27-462d-af30-cb8a36b1717f",
   "metadata": {},
   "outputs": [],
   "source": [
    "df_len = len(df)\n",
    "df_len"
   ]
  },
  {
   "cell_type": "code",
   "execution_count": null,
   "id": "324cdddf-ea42-4e4f-ad87-163729fd1bfa",
   "metadata": {},
   "outputs": [],
   "source": [
    "print(f'January data has {len(df.columns)} columns.')"
   ]
  },
  {
   "cell_type": "code",
   "execution_count": null,
   "id": "e17e533d-e586-4395-bec6-07f48264b54b",
   "metadata": {},
   "outputs": [],
   "source": [
    "df.tpep_pickup_datetime = pd.to_datetime(df.tpep_pickup_datetime)\n",
    "df.tpep_dropoff_datetime = pd.to_datetime(df.tpep_dropoff_datetime)\n",
    "\n",
    "df['duration'] = (df.tpep_dropoff_datetime - df.tpep_pickup_datetime)\n",
    "\n",
    "# Convert to minutes\n",
    "df.duration = df.duration.apply(lambda x: x.total_seconds()/60.0)\n",
    "df.duration.head()"
   ]
  },
  {
   "cell_type": "code",
   "execution_count": null,
   "id": "7bbc4426-6021-43ad-87ef-9c0f1a3661f9",
   "metadata": {},
   "outputs": [],
   "source": [
    "# Get std of duration\n",
    "df.duration.describe()['std']"
   ]
  },
  {
   "cell_type": "code",
   "execution_count": null,
   "id": "482b8a14-fb1a-4169-91f5-28b38adee47e",
   "metadata": {},
   "outputs": [],
   "source": [
    "# Remove outliers\n",
    "df = df[(df.duration >= 1) & (df.duration <= 60)]"
   ]
  },
  {
   "cell_type": "code",
   "execution_count": null,
   "id": "cb1cb1d4-606b-4e9a-b697-1461aabc1627",
   "metadata": {},
   "outputs": [],
   "source": [
    "df_len_after = len(df)\n",
    "df_len_after"
   ]
  },
  {
   "cell_type": "code",
   "execution_count": null,
   "id": "321c15f4-5ddb-47df-a6fc-166ade04974b",
   "metadata": {},
   "outputs": [],
   "source": [
    "# Percent of records retained after removing outliers\n",
    "df_len_after/df_len*100"
   ]
  },
  {
   "cell_type": "code",
   "execution_count": null,
   "id": "4fc75283-37dd-43d4-a9b5-5f2a8714279e",
   "metadata": {},
   "outputs": [],
   "source": [
    "df.head()"
   ]
  },
  {
   "cell_type": "code",
   "execution_count": null,
   "id": "9b2c0709-f143-4895-90c2-b5528480705f",
   "metadata": {},
   "outputs": [],
   "source": [
    "categorical = ['PULocationID', 'DOLocationID']\n",
    "\n",
    "df.loc[:, categorical] = df.loc[:, categorical].astype('Int64')\n",
    "df.loc[:, categorical] = df.loc[:, categorical].astype(str)\n",
    "\n",
    "df.dtypes"
   ]
  },
  {
   "cell_type": "code",
   "execution_count": null,
   "id": "2cf5f1cd-2a36-4f62-9fd4-b0b4ccd42e8e",
   "metadata": {},
   "outputs": [],
   "source": [
    "dv = DictVectorizer()\n",
    "\n",
    "train_dicts= df[categorical].to_dict(orient='records')\n",
    "\n",
    "X_train = dv.fit_transform(train_dicts)"
   ]
  },
  {
   "cell_type": "code",
   "execution_count": null,
   "id": "bbb1d293-6133-4ecf-bb93-9c075d689062",
   "metadata": {},
   "outputs": [],
   "source": [
    "print(f'X_train has {X_train.shape[1]} colums.')"
   ]
  },
  {
   "cell_type": "code",
   "execution_count": null,
   "id": "a30b8524-c2ed-4dec-ad7b-e87649cbacb3",
   "metadata": {},
   "outputs": [],
   "source": [
    "# Target \n",
    "y_train = df.duration.values"
   ]
  },
  {
   "cell_type": "code",
   "execution_count": null,
   "id": "a28011bd-ab37-4bf3-84d6-7398089dcb8d",
   "metadata": {},
   "outputs": [],
   "source": [
    "linear_model = LinearRegression()\n",
    "\n",
    "linear_model.fit(X_train, y_train)"
   ]
  },
  {
   "cell_type": "code",
   "execution_count": null,
   "id": "7566000b-b0e6-4f1b-b1a4-81fe11a07674",
   "metadata": {},
   "outputs": [],
   "source": [
    "y_pred = linear_model.predict(X_train)\n",
    "print(f'Train RMSE: {math.sqrt(mean_squared_error(y_train, y_pred))}')"
   ]
  },
  {
   "cell_type": "code",
   "execution_count": null,
   "id": "dbad0d72-04b6-442e-bd7d-23f8ffde7414",
   "metadata": {},
   "outputs": [],
   "source": [
    "# Function that does everythin above: Can be used for validation dataset\n",
    "\n",
    "def process_dataset(path):\n",
    "    df = pd.read_parquet(path)\n",
    "    \n",
    "    df.tpep_pickup_datetime = pd.to_datetime(df.tpep_pickup_datetime)\n",
    "    df.tpep_dropoff_datetime = pd.to_datetime(df.tpep_dropoff_datetime)\n",
    "    \n",
    "    df['duration'] = (df.tpep_dropoff_datetime - df.tpep_pickup_datetime)\n",
    "    \n",
    "    # Convert datetime to minutes\n",
    "    df.duration = df.duration.apply(lambda x: x.total_seconds()/60.0)\n",
    "\n",
    "    categorical = ['PULocationID', 'DOLocationID']\n",
    "\n",
    "    df = df[(df.duration >= 1) & (df.duration <= 60)]\n",
    "\n",
    "    df.loc[:, categorical] = df.loc[:, categorical].astype('Int64')\n",
    "    df.loc[:, categorical] = df.loc[:, categorical].astype(str)\n",
    "\n",
    "    return df"
   ]
  },
  {
   "cell_type": "code",
   "execution_count": null,
   "id": "1eaed861-64d8-4cfe-94f4-92fff31d44b4",
   "metadata": {},
   "outputs": [],
   "source": [
    "df_val = process_dataset('data/yellow_tripdata_2023-02.parquet')"
   ]
  },
  {
   "cell_type": "code",
   "execution_count": null,
   "id": "649537bf-7060-4440-a46d-055a5296c4db",
   "metadata": {},
   "outputs": [],
   "source": [
    "len(df_val)"
   ]
  },
  {
   "cell_type": "code",
   "execution_count": null,
   "id": "e0d481c8-2002-46fe-a897-8c1ae823e317",
   "metadata": {},
   "outputs": [],
   "source": [
    "val_dicts = df_val[categorical].to_dict(orient='records')\n",
    "\n",
    "X_val = dv.transform(val_dicts)\n",
    "y_val = df_val.duration.values"
   ]
  },
  {
   "cell_type": "code",
   "execution_count": null,
   "id": "5a3b33b6-39d5-4d51-9aae-c5e4133145ec",
   "metadata": {},
   "outputs": [],
   "source": [
    "y_pred = linear_model.predict(X_val)\n",
    "print(f'Val RMSE: {math.sqrt(mean_squared_error(y_val, y_pred))}')"
   ]
  },
  {
   "cell_type": "code",
   "execution_count": null,
   "id": "b3369599-63fe-47e7-9690-d562a3f7b1da",
   "metadata": {},
   "outputs": [],
   "source": []
  }
 ],
 "metadata": {
  "kernelspec": {
   "display_name": "venv",
   "language": "python",
   "name": "python3"
  },
  "language_info": {
   "codemirror_mode": {
    "name": "ipython",
    "version": 3
   },
   "file_extension": ".py",
   "mimetype": "text/x-python",
   "name": "python",
   "nbconvert_exporter": "python",
   "pygments_lexer": "ipython3",
   "version": "3.10.12"
  }
 },
 "nbformat": 4,
 "nbformat_minor": 5
}
